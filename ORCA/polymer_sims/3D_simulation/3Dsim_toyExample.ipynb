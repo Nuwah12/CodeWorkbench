{
 "cells": [
  {
   "cell_type": "markdown",
   "id": "5314e14a-4732-4164-bb69-0dc307091850",
   "metadata": {},
   "source": [
    "### Simple MD (3D) simulation"
   ]
  },
  {
   "cell_type": "code",
   "execution_count": 18,
   "id": "f35cf47b-f281-4dcc-898f-1cd86439cd33",
   "metadata": {
    "collapsed": true,
    "jupyter": {
     "outputs_hidden": true
    }
   },
   "outputs": [],
   "source": [
    "import numpy as np\n",
    "import h5py\n",
    "from polychrom.starting_conformations import grow_cubic\n",
    "from polychrom.simulation import Simulation\n",
    "from polychrom.hdf5_format import HDF5Reporter\n",
    "import polychrom.forcekits as forcekits\n",
    "import polychrom.forces as forces\n",
    "import matplotlib.pyplot as plt"
   ]
  },
  {
   "cell_type": "markdown",
   "id": "dfa1618a-9002-42df-9907-0322673b623f",
   "metadata": {},
   "source": [
    "### Class for handling and updating bonds"
   ]
  },
  {
   "cell_type": "code",
   "execution_count": 15,
   "id": "2afca132-251c-41f4-8d9f-623e34f5982a",
   "metadata": {
    "collapsed": true,
    "jupyter": {
     "outputs_hidden": true
    }
   },
   "outputs": [],
   "source": [
    "#### Object for handling bonds\n",
    "class bondUpdater(object):\n",
    "\n",
    "    def __init__(self, LEFpositions):\n",
    "        \"\"\"\n",
    "        Initialize a bondUpdater object\n",
    "\n",
    "        :param LEFpositions: numpy array of extruder positions wrt polymer position\n",
    "        \"\"\"\n",
    "        self.LEFpositions = LEFpositions\n",
    "        self.curtime  = 0\n",
    "        self.allBonds = []\n",
    "\n",
    "    def setParams(self, activeParamDict, inactiveParamDict):\n",
    "        \"\"\"\n",
    "        A method to set parameters for bonds.\n",
    "        It is a separate method because you may want to have a Simulation object already existing\n",
    "\n",
    "        :param activeParamDict: a dict (argument:value) of addBond arguments for active bonds\n",
    "        :param inactiveParamDict:  a dict (argument:value) of addBond arguments for inactive bonds\n",
    "\n",
    "        \"\"\"\n",
    "        self.activeParamDict = activeParamDict\n",
    "        self.inactiveParamDict = inactiveParamDict\n",
    "\n",
    "\n",
    "    def setup(self, bondForce,  blocks=100, smcStepsPerBlock=1):\n",
    "        \"\"\"\n",
    "        A method that milks smcTranslocator object\n",
    "        and creates a set of unique bonds, etc.\n",
    "\n",
    "        :param bondForce: a bondforce object (new after simulation restart!)\n",
    "        :param blocks: number of blocks to precalculate\n",
    "        :param smcStepsPerBlock: number of smcTranslocator steps per block\n",
    "        :return:\n",
    "        \"\"\"\n",
    "\n",
    "\n",
    "        if len(self.allBonds) != 0:\n",
    "            raise ValueError(\"Not all bonds were used; {0} sets left\".format(len(self.allBonds)))\n",
    "\n",
    "        self.bondForce = bondForce # force_dict from simulation object (bondForce obj)\n",
    "\n",
    "        #precalculating all bonds\n",
    "        allBonds = []\n",
    "        \n",
    "        loaded_positions  = self.LEFpositions[self.curtime : self.curtime+blocks] # Get all extruder positions from curtime to curtime+blocks\n",
    "        allBonds = [[(int(loaded_positions[i, j, 0]), int(loaded_positions[i, j, 1])) \n",
    "                        for j in range(loaded_positions.shape[1])] for i in range(blocks)] # Get all positions for both legs of extruder, i.e. location of the 'bonds'\n",
    "\n",
    "        self.allBonds = allBonds\n",
    "        self.uniqueBonds = list(set(sum(allBonds, []))) # unlist the bonds and get unique\n",
    "\n",
    "        #adding forces and getting bond indices\n",
    "        self.bondInds = []\n",
    "        self.curBonds = allBonds.pop(0) \n",
    "\n",
    "        for bond in self.uniqueBonds: # Loop thru all bonds\n",
    "            paramset = self.activeParamDict if (bond in self.curBonds) else self.inactiveParamDict # Determine if bond is active and get parameters\n",
    "            ind = bondForce.addBond(bond[0], bond[1], **paramset) # \n",
    "            self.bondInds.append(ind)\n",
    "        self.bondToInd = {i:j for i,j in zip(self.uniqueBonds, self.bondInds)} # Dict of {bond : bond index}\n",
    "        \n",
    "        self.curtime += blocks # Advance blocks\n",
    "        \n",
    "        return self.curBonds,[]\n",
    "\n",
    "\n",
    "    def step(self, context, verbose=False):\n",
    "        \"\"\"\n",
    "        Update the bonds to the next step.\n",
    "        It sets bonds for you automatically!\n",
    "        :param context:  context\n",
    "        :return: (current bonds, previous step bonds); just for reference\n",
    "        \"\"\"\n",
    "        if len(self.allBonds) == 0:\n",
    "            raise ValueError(\"No bonds left to run; you should restart simulation and run setup  again\")\n",
    "\n",
    "        pastBonds = self.curBonds\n",
    "        self.curBonds = self.allBonds.pop(0)  # getting current bonds\n",
    "        bondsRemove = [i for i in pastBonds if i not in self.curBonds] # ID bonds to remove\n",
    "        bondsAdd = [i for i in self.curBonds if i not in pastBonds] # Bonds to add\n",
    "        bondsStay = [i for i in pastBonds if i in self.curBonds] # Bonds to stay\n",
    "        if verbose:\n",
    "            print(\"{0} bonds stay, {1} new bonds, {2} bonds removed\".format(len(bondsStay),\n",
    "                                                                            len(bondsAdd), len(bondsRemove)))\n",
    "        bondsToChange = bondsAdd + bondsRemove # Total num of bonds to change\n",
    "        bondsIsAdd = [True] * len(bondsAdd) + [False] * len(bondsRemove) # Flag for if a bond should be added\n",
    "        for bond, isAdd in zip(bondsToChange, bondsIsAdd): # loop thru all bonds\n",
    "            ind = self.bondToInd[bond] # Get index of this bond\n",
    "            paramset = self.activeParamDict if isAdd else self.inactiveParamDict # Fetch parameters\n",
    "            self.bondForce.setBondParameters(ind, bond[0], bond[1], **paramset)  # actually updating bonds\n",
    "        self.bondForce.updateParametersInContext(context)  # now run this to update things in the context\n",
    "        return self.curBonds, pastBonds"
   ]
  },
  {
   "cell_type": "markdown",
   "id": "5af47a43-40a5-4d23-a1d1-bff7e66dd881",
   "metadata": {},
   "source": [
    "### Define parameters for 3D portion"
   ]
  },
  {
   "cell_type": "code",
   "execution_count": 16,
   "id": "71b1d036-04f3-4422-9189-be8fd0d0eed5",
   "metadata": {
    "collapsed": true,
    "jupyter": {
     "outputs_hidden": true
    }
   },
   "outputs": [
    {
     "name": "stdout",
     "output_type": "stream",
     "text": [
      "\n",
      "There will be 100 MD steps done for every step of the extruder\n",
      "Conformations saved every 10 steps, for 10 confs. per simulation\n",
      "Simulation restarts every 100 steps\n",
      "      \n"
     ]
    }
   ],
   "source": [
    "##### Define parameters\n",
    "trajectories = h5py.File(\"../1D_trajectory/trajectory/LEFPositions.h5\") # Saved trajectories from 1D siumulation\n",
    "\n",
    "N = trajectories.attrs[\"N\"] # Length of polymer\n",
    "LEFNum = trajectories.attrs[\"LEFNum\"] # Number of extruders\n",
    "LEFpositions = trajectories[\"positions\"] # Positions of extruders at each 1D step\n",
    "Nframes = LEFpositions.shape[0] # Number of 1D steps (= number of extruder steps)\n",
    "\n",
    "steps = 100 # MD steps PER STEP OF EXTRUDER\n",
    "stiff = 1\n",
    "box = (N / 0.1) ** 0.33 # Dimensions of bounding box\n",
    "data = grow_cubic(N, int(box))\n",
    "\n",
    "# SMC (Extruder) parameters\n",
    "smcBondWiddleDist = 0.2\n",
    "smcBondDist = 0.5\n",
    "\n",
    "### Simulation saving parameters\n",
    "saveEveryBlocks = 10 # Write coordinates every this many blocks\n",
    "restartSimulationEveryBlocks = 100 # \n",
    "# Checks\n",
    "assert Nframes % restartSimulationEveryBlocks == 0 # So we don't have leftover steps that won't get saved\n",
    "assert (restartSimulationEveryBlocks % saveEveryBlocks) == 0\n",
    "\n",
    "savesPerSim = restartSimulationEveryBlocks // saveEveryBlocks\n",
    "simInitsTotal = Nframes // restartSimulationEveryBlocks # Number of simulation initializations\n",
    "\n",
    "print(\"\"\"\n",
    "There will be {} MD steps done for every step of the extruder\n",
    "Conformations saved every {} steps, for {} confs. per simulation\n",
    "Simulation restarts every {} steps\n",
    "      \"\"\".format(steps,saveEveryBlocks,savesPerSim,restartSimulationEveryBlocks))"
   ]
  },
  {
   "cell_type": "markdown",
   "id": "71c24dff-2580-484a-9a63-a9846a729cba",
   "metadata": {},
   "source": [
    "### The Simulation Loop"
   ]
  },
  {
   "cell_type": "code",
   "execution_count": 20,
   "id": "cb108b84-0243-4294-96a6-8ba309e62e6a",
   "metadata": {
    "collapsed": true,
    "jupyter": {
     "outputs_hidden": true
    }
   },
   "outputs": [
    {
     "name": "stderr",
     "output_type": "stream",
     "text": [
      "INFO:root:Performing local energy minimization\n",
      "INFO:root:adding force harmonic_bonds 0\n",
      "INFO:root:adding force angle 1\n",
      "INFO:root:Using periodic boundary conditions\n",
      "INFO:root:adding force polynomial_repulsive 2\n"
     ]
    },
    {
     "name": "stdout",
     "output_type": "stream",
     "text": [
      "Exclude neighbouring chain particles from polynomial_repulsive\n",
      "Number of exceptions: 499\n"
     ]
    },
    {
     "ename": "OpenMMException",
     "evalue": "Error initializing CUDA: CUDA_ERROR_NO_DEVICE (100) at /home/conda/feedstock_root/build_artifacts/openmm_1706893044997/work/platforms/cuda/src/CudaContext.cpp:91",
     "output_type": "error",
     "traceback": [
      "\u001b[0;31m---------------------------------------------------------------------------\u001b[0m",
      "\u001b[0;31mOpenMMException\u001b[0m                           Traceback (most recent call last)",
      "\u001b[0;32m/tmp/ipykernel_1400607/2399367068.py\u001b[0m in \u001b[0;36m?\u001b[0;34m()\u001b[0m\n\u001b[1;32m     45\u001b[0m     \u001b[0;31m# Calculate bond parameters for extruder contact\u001b[0m\u001b[0;34m\u001b[0m\u001b[0;34m\u001b[0m\u001b[0m\n\u001b[1;32m     46\u001b[0m     \u001b[0mkbond\u001b[0m \u001b[0;34m=\u001b[0m \u001b[0ma\u001b[0m\u001b[0;34m.\u001b[0m\u001b[0mkbondScalingFactor\u001b[0m \u001b[0;34m/\u001b[0m \u001b[0;34m(\u001b[0m\u001b[0msmcBondWiddleDist\u001b[0m\u001b[0;34m**\u001b[0m\u001b[0;36m2\u001b[0m\u001b[0;34m)\u001b[0m\u001b[0;34m\u001b[0m\u001b[0;34m\u001b[0m\u001b[0m\n\u001b[1;32m     47\u001b[0m     \u001b[0mbondDist\u001b[0m \u001b[0;34m=\u001b[0m \u001b[0msmcBondDist\u001b[0m \u001b[0;34m*\u001b[0m \u001b[0ma\u001b[0m\u001b[0;34m.\u001b[0m\u001b[0mlength_scale\u001b[0m\u001b[0;34m\u001b[0m\u001b[0;34m\u001b[0m\u001b[0m\n\u001b[1;32m     48\u001b[0m     \u001b[0mactiveParams\u001b[0m \u001b[0;34m=\u001b[0m \u001b[0;34m{\u001b[0m\u001b[0;34m\"length\"\u001b[0m\u001b[0;34m:\u001b[0m\u001b[0mbondDist\u001b[0m\u001b[0;34m,\u001b[0m \u001b[0;34m\"k\"\u001b[0m\u001b[0;34m:\u001b[0m\u001b[0mkbond\u001b[0m\u001b[0;34m}\u001b[0m\u001b[0;34m\u001b[0m\u001b[0;34m\u001b[0m\u001b[0m\n\u001b[0;32m---> 49\u001b[0;31m     \u001b[0minactiveParams\u001b[0m \u001b[0;34m=\u001b[0m \u001b[0;34m{\u001b[0m\u001b[0;34m\"length\"\u001b[0m\u001b[0;34m:\u001b[0m\u001b[0mbondDist\u001b[0m\u001b[0;34m,\u001b[0m \u001b[0;34m\"k\"\u001b[0m\u001b[0;34m:\u001b[0m\u001b[0;36m0\u001b[0m\u001b[0;34m}\u001b[0m\u001b[0;34m\u001b[0m\u001b[0;34m\u001b[0m\u001b[0m\n\u001b[0m\u001b[1;32m     50\u001b[0m     \u001b[0;31m# Set up bond manager object (\"milker\")\u001b[0m\u001b[0;34m\u001b[0m\u001b[0;34m\u001b[0m\u001b[0m\n\u001b[1;32m     51\u001b[0m     \u001b[0mmilker\u001b[0m\u001b[0;34m.\u001b[0m\u001b[0msetParams\u001b[0m\u001b[0;34m(\u001b[0m\u001b[0mactiveParams\u001b[0m\u001b[0;34m,\u001b[0m \u001b[0minactiveParams\u001b[0m\u001b[0;34m)\u001b[0m\u001b[0;34m\u001b[0m\u001b[0;34m\u001b[0m\u001b[0m\n\u001b[1;32m     52\u001b[0m     \u001b[0mmilker\u001b[0m\u001b[0;34m.\u001b[0m\u001b[0msetup\u001b[0m\u001b[0;34m(\u001b[0m\u001b[0mbondForce\u001b[0m\u001b[0;34m=\u001b[0m\u001b[0ma\u001b[0m\u001b[0;34m.\u001b[0m\u001b[0mforce_dict\u001b[0m\u001b[0;34m[\u001b[0m\u001b[0;34m\"harmonic_bonds\"\u001b[0m\u001b[0;34m]\u001b[0m\u001b[0;34m,\u001b[0m \u001b[0mblocks\u001b[0m\u001b[0;34m=\u001b[0m\u001b[0mrestartSimulationEveryBlocks\u001b[0m\u001b[0;34m)\u001b[0m\u001b[0;34m\u001b[0m\u001b[0;34m\u001b[0m\u001b[0m\n",
      "\u001b[0;32m/mnt/data0/noah/software/polychrom/polychrom/simulation.py\u001b[0m in \u001b[0;36m?\u001b[0;34m(self, tolerance, maxIterations, random_offset)\u001b[0m\n\u001b[1;32m    644\u001b[0m         \"\"\"\n\u001b[1;32m    645\u001b[0m \u001b[0;34m\u001b[0m\u001b[0m\n\u001b[1;32m    646\u001b[0m         \u001b[0mlogging\u001b[0m\u001b[0;34m.\u001b[0m\u001b[0minfo\u001b[0m\u001b[0;34m(\u001b[0m\u001b[0;34m\"Performing local energy minimization\"\u001b[0m\u001b[0;34m)\u001b[0m\u001b[0;34m\u001b[0m\u001b[0;34m\u001b[0m\u001b[0m\n\u001b[1;32m    647\u001b[0m \u001b[0;34m\u001b[0m\u001b[0m\n\u001b[0;32m--> 648\u001b[0;31m         \u001b[0mself\u001b[0m\u001b[0;34m.\u001b[0m\u001b[0m_apply_forces\u001b[0m\u001b[0;34m(\u001b[0m\u001b[0;34m)\u001b[0m\u001b[0;34m\u001b[0m\u001b[0;34m\u001b[0m\u001b[0m\n\u001b[0m\u001b[1;32m    649\u001b[0m \u001b[0;34m\u001b[0m\u001b[0m\n\u001b[1;32m    650\u001b[0m         \u001b[0mself\u001b[0m\u001b[0;34m.\u001b[0m\u001b[0mstate\u001b[0m \u001b[0;34m=\u001b[0m \u001b[0mself\u001b[0m\u001b[0;34m.\u001b[0m\u001b[0mcontext\u001b[0m\u001b[0;34m.\u001b[0m\u001b[0mgetState\u001b[0m\u001b[0;34m(\u001b[0m\u001b[0mgetPositions\u001b[0m\u001b[0;34m=\u001b[0m\u001b[0;32mFalse\u001b[0m\u001b[0;34m,\u001b[0m \u001b[0mgetEnergy\u001b[0m\u001b[0;34m=\u001b[0m\u001b[0;32mTrue\u001b[0m\u001b[0;34m)\u001b[0m\u001b[0;34m\u001b[0m\u001b[0;34m\u001b[0m\u001b[0m\n\u001b[1;32m    651\u001b[0m         \u001b[0meK\u001b[0m \u001b[0;34m=\u001b[0m \u001b[0mself\u001b[0m\u001b[0;34m.\u001b[0m\u001b[0mstate\u001b[0m\u001b[0;34m.\u001b[0m\u001b[0mgetKineticEnergy\u001b[0m\u001b[0;34m(\u001b[0m\u001b[0;34m)\u001b[0m \u001b[0;34m/\u001b[0m \u001b[0mself\u001b[0m\u001b[0;34m.\u001b[0m\u001b[0mN\u001b[0m \u001b[0;34m/\u001b[0m \u001b[0mself\u001b[0m\u001b[0;34m.\u001b[0m\u001b[0mkT\u001b[0m\u001b[0;34m\u001b[0m\u001b[0;34m\u001b[0m\u001b[0m\n",
      "\u001b[0;32m/mnt/data0/noah/software/polychrom/polychrom/simulation.py\u001b[0m in \u001b[0;36m?\u001b[0;34m(self)\u001b[0m\n\u001b[1;32m    533\u001b[0m                 \u001b[0;34m\"applied_forces\"\u001b[0m\u001b[0;34m,\u001b[0m\u001b[0;34m\u001b[0m\u001b[0;34m\u001b[0m\u001b[0m\n\u001b[1;32m    534\u001b[0m                 \u001b[0;34m{\u001b[0m\u001b[0mi\u001b[0m\u001b[0;34m:\u001b[0m \u001b[0mj\u001b[0m\u001b[0;34m.\u001b[0m\u001b[0m__getstate__\u001b[0m\u001b[0;34m(\u001b[0m\u001b[0;34m)\u001b[0m \u001b[0;32mfor\u001b[0m \u001b[0mi\u001b[0m\u001b[0;34m,\u001b[0m \u001b[0mj\u001b[0m \u001b[0;32min\u001b[0m \u001b[0mself\u001b[0m\u001b[0;34m.\u001b[0m\u001b[0mforce_dict\u001b[0m\u001b[0;34m.\u001b[0m\u001b[0mitems\u001b[0m\u001b[0;34m(\u001b[0m\u001b[0;34m)\u001b[0m\u001b[0;34m}\u001b[0m\u001b[0;34m,\u001b[0m\u001b[0;34m\u001b[0m\u001b[0;34m\u001b[0m\u001b[0m\n\u001b[1;32m    535\u001b[0m             )\n\u001b[1;32m    536\u001b[0m \u001b[0;34m\u001b[0m\u001b[0m\n\u001b[0;32m--> 537\u001b[0;31m         \u001b[0mself\u001b[0m\u001b[0;34m.\u001b[0m\u001b[0mcontext\u001b[0m \u001b[0;34m=\u001b[0m \u001b[0mopenmm\u001b[0m\u001b[0;34m.\u001b[0m\u001b[0mContext\u001b[0m\u001b[0;34m(\u001b[0m\u001b[0mself\u001b[0m\u001b[0;34m.\u001b[0m\u001b[0msystem\u001b[0m\u001b[0;34m,\u001b[0m \u001b[0mself\u001b[0m\u001b[0;34m.\u001b[0m\u001b[0mintegrator\u001b[0m\u001b[0;34m,\u001b[0m \u001b[0mself\u001b[0m\u001b[0;34m.\u001b[0m\u001b[0mplatform\u001b[0m\u001b[0;34m,\u001b[0m \u001b[0mself\u001b[0m\u001b[0;34m.\u001b[0m\u001b[0mproperties\u001b[0m\u001b[0;34m)\u001b[0m\u001b[0;34m\u001b[0m\u001b[0;34m\u001b[0m\u001b[0m\n\u001b[0m\u001b[1;32m    538\u001b[0m         \u001b[0mself\u001b[0m\u001b[0;34m.\u001b[0m\u001b[0minit_positions\u001b[0m\u001b[0;34m(\u001b[0m\u001b[0;34m)\u001b[0m\u001b[0;34m\u001b[0m\u001b[0;34m\u001b[0m\u001b[0m\n\u001b[1;32m    539\u001b[0m         \u001b[0mself\u001b[0m\u001b[0;34m.\u001b[0m\u001b[0minit_velocities\u001b[0m\u001b[0;34m(\u001b[0m\u001b[0;34m)\u001b[0m\u001b[0;34m\u001b[0m\u001b[0;34m\u001b[0m\u001b[0m\n\u001b[1;32m    540\u001b[0m         \u001b[0mself\u001b[0m\u001b[0;34m.\u001b[0m\u001b[0mforces_applied\u001b[0m \u001b[0;34m=\u001b[0m \u001b[0;32mTrue\u001b[0m\u001b[0;34m\u001b[0m\u001b[0;34m\u001b[0m\u001b[0m\n",
      "\u001b[0;32m~/.conda/envs/noah/lib/python3.9/site-packages/openmm/openmm.py\u001b[0m in \u001b[0;36m?\u001b[0;34m(self, *args)\u001b[0m\n\u001b[1;32m  12167\u001b[0m             \u001b[0mthe\u001b[0m \u001b[0mPlatform\u001b[0m \u001b[0mto\u001b[0m \u001b[0muse\u001b[0m \u001b[0;32mfor\u001b[0m \u001b[0mcalculations\u001b[0m\u001b[0;34m\u001b[0m\u001b[0;34m\u001b[0m\u001b[0m\n\u001b[1;32m  12168\u001b[0m         \u001b[0mproperties\u001b[0m \u001b[0;34m:\u001b[0m \u001b[0mmap\u001b[0m\u001b[0;34m<\u001b[0m \u001b[0mstd\u001b[0m\u001b[0;34m:\u001b[0m\u001b[0;34m:\u001b[0m\u001b[0mstring\u001b[0m\u001b[0;34m,\u001b[0m \u001b[0mstd\u001b[0m\u001b[0;34m:\u001b[0m\u001b[0;34m:\u001b[0m\u001b[0mstring\u001b[0m \u001b[0;34m>\u001b[0m\u001b[0;34m\u001b[0m\u001b[0;34m\u001b[0m\u001b[0m\n\u001b[1;32m  12169\u001b[0m             \u001b[0ma\u001b[0m \u001b[0mset\u001b[0m \u001b[0mof\u001b[0m \u001b[0mvalues\u001b[0m \u001b[0;32mfor\u001b[0m \u001b[0mplatform\u001b[0m\u001b[0;34m-\u001b[0m\u001b[0mspecific\u001b[0m \u001b[0mproperties\u001b[0m\u001b[0;34m.\u001b[0m \u001b[0mKeys\u001b[0m \u001b[0mare\u001b[0m \u001b[0mthe\u001b[0m \u001b[0mproperty\u001b[0m \u001b[0mnames\u001b[0m\u001b[0;34m.\u001b[0m\u001b[0;34m\u001b[0m\u001b[0;34m\u001b[0m\u001b[0m\n\u001b[1;32m  12170\u001b[0m         \"\"\"\n\u001b[0;32m> 12171\u001b[0;31m         \u001b[0m_openmm\u001b[0m\u001b[0;34m.\u001b[0m\u001b[0mContext_swiginit\u001b[0m\u001b[0;34m(\u001b[0m\u001b[0mself\u001b[0m\u001b[0;34m,\u001b[0m \u001b[0m_openmm\u001b[0m\u001b[0;34m.\u001b[0m\u001b[0mnew_Context\u001b[0m\u001b[0;34m(\u001b[0m\u001b[0;34m*\u001b[0m\u001b[0margs\u001b[0m\u001b[0;34m)\u001b[0m\u001b[0;34m)\u001b[0m\u001b[0;34m\u001b[0m\u001b[0;34m\u001b[0m\u001b[0m\n\u001b[0m\u001b[1;32m  12172\u001b[0m \u001b[0;34m\u001b[0m\u001b[0m\n\u001b[1;32m  12173\u001b[0m         \u001b[0mself\u001b[0m\u001b[0;34m.\u001b[0m\u001b[0m_system\u001b[0m \u001b[0;34m=\u001b[0m \u001b[0margs\u001b[0m\u001b[0;34m[\u001b[0m\u001b[0;36m0\u001b[0m\u001b[0;34m]\u001b[0m\u001b[0;34m\u001b[0m\u001b[0;34m\u001b[0m\u001b[0m\n\u001b[1;32m  12174\u001b[0m         \u001b[0mself\u001b[0m\u001b[0;34m.\u001b[0m\u001b[0m_integrator\u001b[0m \u001b[0;34m=\u001b[0m \u001b[0margs\u001b[0m\u001b[0;34m[\u001b[0m\u001b[0;36m1\u001b[0m\u001b[0;34m]\u001b[0m\u001b[0;34m\u001b[0m\u001b[0;34m\u001b[0m\u001b[0m\n",
      "\u001b[0;31mOpenMMException\u001b[0m: Error initializing CUDA: CUDA_ERROR_NO_DEVICE (100) at /home/conda/feedstock_root/build_artifacts/openmm_1706893044997/work/platforms/cuda/src/CudaContext.cpp:91"
     ]
    }
   ],
   "source": [
    "milker = bondUpdater(LEFpositions)\n",
    "\n",
    "reporter = HDF5Reporter(folder=\"sim_outs\", # Save data location\n",
    "                        max_data_length=100, # Write data in chunks of this size\n",
    "                        overwrite=True, # overwrite existing file in out location\n",
    "                        blocks_only=True) # only save simulation blocks\n",
    "\n",
    "for iter in range(simInitsTotal):\n",
    "    # Create the simulation object\n",
    "    a = Simulation(\n",
    "            platform=\"cuda\", # platform to do computations on\n",
    "            integrator=\"variableLangevin\", # Integrator from OpenMM\n",
    "            error_tol=0.01, # error rate parameter for variableLangevin integrator\n",
    "            GPU=\"0\", # GPU index\n",
    "            collision_rate=0.03, # collision rate of particles in inverse picoseconds\n",
    "            N=len(data), # no. of particles\n",
    "            reporters=[reporter], # list of reporter objects to use\n",
    "            PBCbox=[box,box,box], # Periodic Boundary Conditions (PBC) box dimensions (x,y,z)\n",
    "            precision=\"mixed\" # GPU calculation precision, mixed is slow on 3080 and newer GPUs\n",
    "    )\n",
    "    # Loads the polymer we created, and puts center of mass at (0,0,0)\n",
    "    a.set_data(data) \n",
    "    # Add a force to the simulation object - since we are doing polymer simulation, we add a 'forcekit' that describes all the forces in a polymer chain and the interactions between them\n",
    "    a.add_force(\n",
    "        forcekits.polymer_chains(\n",
    "            a, # Simulation object\n",
    "            chains=[(0, None, 0)], # List of tuples desctibing 1 chain each - this is the default value, i.e. one chain of length N that is not a ring (i.e. a chain)\n",
    "            bond_force_func=forces.harmonic_bonds, # Define the bonded force as harmonic bonds\n",
    "            bond_force_kwargs={'bondLength':1.0, 'bondWiggleDistance':0.1}, # Parameters for harmonic bonds\n",
    "            angle_force_func=forces.angle_force, # Angle force \n",
    "            angle_force_kwargs={'k':1.5}, # Angle force parameters. k = stiffness bond (8=very stiff, k=1.5 is \"realistically flexible\")\n",
    "            nonbonded_force_func=forces.polynomial_repulsive, # Nonbonded force\n",
    "            nonbonded_force_kwargs={'trunc':1.5, # Allows chains to cross, the energy value at dist=0\n",
    "                                    'radiusMult':1.05},\n",
    "            except_bonds=True # Monomers that are directly bonded will not take into account nonbonded forces\n",
    "        )\n",
    "    )\n",
    "    # Calculate bond parameters for extruder contact\n",
    "    kbond = a.kbondScalingFactor / (smcBondWiddleDist**2)\n",
    "    bondDist = smcBondDist * a.length_scale\n",
    "    activeParams = {\"length\":bondDist, \"k\":kbond}\n",
    "    inactiveParams = {\"length\":bondDist, \"k\":0}\n",
    "    # Set up bond manager object (\"milker\")\n",
    "    milker.setParams(activeParams, inactiveParams)\n",
    "    milker.setup(bondForce=a.force_dict[\"harmonic_bonds\"], blocks=restartSimulationEveryBlocks)\n",
    "\n",
    "    # During the first simulation initiation, minimize energy of conformations\n",
    "    if iter == 0:\n",
    "        a.local_energy_minimization()\n",
    "    else:\n",
    "        a._apply_forces()\n",
    "    for i in range(restartSimulationEveryBlocks):\n",
    "        if i % saveEveryBlocks == (saveEveryBlocks-1):\n",
    "            a.do_block(steps=steps) # do steps and get new monomer positions\n",
    "        else:\n",
    "            a.integrator.step(steps) # do steps WITHOUT getting new monomer positions (faster)\n",
    "        if i < restartSimulationEveryBlocks - 1:\n",
    "            curBonds, pastBonds = milker.step(a.context) # Update bonds with the milker\n",
    "    data = a.get_data() # Fetch new polymer positions \n",
    "    del a \n",
    "\n",
    "    reporter.blocks_only = True # Write only blocks, not individual steps in block\n",
    "    time.sleep(0.2) # wait to garbage collector can clean up\n",
    "\n",
    "reporter.dump_data() # Output"
   ]
  },
  {
   "cell_type": "code",
   "execution_count": null,
   "id": "2603458f-bd13-4a2f-9db1-22fa33f43da7",
   "metadata": {
    "collapsed": true,
    "jupyter": {
     "outputs_hidden": true
    }
   },
   "outputs": [],
   "source": []
  }
 ],
 "metadata": {
  "kernelspec": {
   "display_name": "Python 3 (ipykernel)",
   "language": "python",
   "name": "python3"
  },
  "language_info": {
   "codemirror_mode": {
    "name": "ipython",
    "version": 3
   },
   "file_extension": ".py",
   "mimetype": "text/x-python",
   "name": "python",
   "nbconvert_exporter": "python",
   "pygments_lexer": "ipython3",
   "version": "3.9.18"
  }
 },
 "nbformat": 4,
 "nbformat_minor": 5
}
