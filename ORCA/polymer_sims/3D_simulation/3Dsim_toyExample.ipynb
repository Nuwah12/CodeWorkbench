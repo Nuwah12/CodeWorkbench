{
 "cells": [
  {
   "cell_type": "markdown",
   "id": "5314e14a-4732-4164-bb69-0dc307091850",
   "metadata": {},
   "source": [
    "### Simple MD (3D) simulation"
   ]
  },
  {
   "cell_type": "code",
   "execution_count": 13,
   "id": "f35cf47b-f281-4dcc-898f-1cd86439cd33",
   "metadata": {},
   "outputs": [],
   "source": [
    "import numpy as np\n",
    "import h5py\n",
    "from polychrom.starting_conformations import grow_cubic\n",
    "import matplotlib.pyplot as plt"
   ]
  },
  {
   "cell_type": "code",
   "execution_count": 37,
   "id": "71b1d036-04f3-4422-9189-be8fd0d0eed5",
   "metadata": {},
   "outputs": [
    {
     "name": "stdout",
     "output_type": "stream",
     "text": [
      "\n",
      "There will be 100 MD steps done for every step of the extruder\n",
      "Conformations saved every 10 steps, for 10 confs. per simulation\n",
      "Simulation restarts every 100 steps\n",
      "      \n"
     ]
    }
   ],
   "source": [
    "##### Define parameters\n",
    "trajectories = h5py.File(\"../1D_trajectory/trajectory/customExtruder_LEFPositions.h5\") # Saved trajectories from 1D siumulation\n",
    "\n",
    "N = trajectories.attrs[\"N\"] # Length of polymer\n",
    "LEFNum = trajectories.attrs[\"LEFNum\"] # Number of extruders\n",
    "LEFpositions = trajectories[\"positions\"] # Positions of extruders at each 1D step\n",
    "Nframes = LEFpositions.shape[0] # Number of 1D steps (= number of extruder steps)\n",
    "\n",
    "steps = 100 # MD steps PER STEP OF EXTRUDER\n",
    "stiff = 1\n",
    "box = (N / 0.1) ** 0.33 # Cubed size of box in monomers\n",
    "data = grow_cubic(N, int(box))\n",
    "\n",
    "# SMC (Extruder) parameters\n",
    "smcBondWiddleDist = 0.2\n",
    "smcBondDist = 0.5\n",
    "\n",
    "### Simulation saving parameters\n",
    "saveEveryBlocks = 10 # Write coordinates every this many blocks\n",
    "restartSimulationEveryBlocks = 100 # \n",
    "# Checks\n",
    "assert Nframes % restartSimulationEveryBlocks == 0 # So we don't have leftover steps that won't get saved\n",
    "assert (restartSimulationEveryBlocks % saveEveryBlocks) == 0\n",
    "\n",
    "savesPerSim = restartSimulationEveryBlocks // saveEveryBlocks\n",
    "simInitsTotal = Nframes // restartSimulationEveryBlocks # Number of simulation initializations\n",
    "\n",
    "print(\"\"\"\n",
    "There will be {} MD steps done for every step of the extruder\n",
    "Conformations saved every {} steps, for {} confs. per simulation\n",
    "Simulation restarts every {} steps\n",
    "      \"\"\".format(steps,saveEveryBlocks,savesPerSim,restartSimulationEveryBlocks))"
   ]
  }
 ],
 "metadata": {
  "kernelspec": {
   "display_name": "Python 3 (ipykernel)",
   "language": "python",
   "name": "python3"
  },
  "language_info": {
   "codemirror_mode": {
    "name": "ipython",
    "version": 3
   },
   "file_extension": ".py",
   "mimetype": "text/x-python",
   "name": "python",
   "nbconvert_exporter": "python",
   "pygments_lexer": "ipython3",
   "version": "3.9.18"
  }
 },
 "nbformat": 4,
 "nbformat_minor": 5
}
