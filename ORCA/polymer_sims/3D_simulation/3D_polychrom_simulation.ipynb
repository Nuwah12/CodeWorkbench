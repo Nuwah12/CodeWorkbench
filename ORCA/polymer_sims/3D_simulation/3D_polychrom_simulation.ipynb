{
 "cells": [
  {
   "cell_type": "markdown",
   "id": "5314e14a-4732-4164-bb69-0dc307091850",
   "metadata": {},
   "source": [
    "### Simple MD (3D) simulation"
   ]
  },
  {
   "cell_type": "code",
   "execution_count": null,
   "id": "f35cf47b-f281-4dcc-898f-1cd86439cd33",
   "metadata": {},
   "outputs": [],
   "source": [
    "import time\n",
    "import numpy as np\n",
    "import h5py\n",
    "from bondUpdater import bondUpdater\n",
    "from polychrom.starting_conformations import grow_cubic\n",
    "from polychrom.simulation import Simulation\n",
    "from polychrom.hdf5_format import HDF5Reporter\n",
    "import polychrom.forcekits as forcekits\n",
    "import polychrom.forces as forces\n",
    "import matplotlib.pyplot as plt"
   ]
  },
  {
   "cell_type": "markdown",
   "id": "5af47a43-40a5-4d23-a1d1-bff7e66dd881",
   "metadata": {},
   "source": [
    "### Define parameters for 3D portion"
   ]
  },
  {
   "cell_type": "code",
   "execution_count": null,
   "id": "71b1d036-04f3-4422-9189-be8fd0d0eed5",
   "metadata": {},
   "outputs": [],
   "source": [
    "##### Define parameters\n",
    "trajectories = h5py.File(\"../1D_trajectory/trajectory/LEFPositions.h5\") # Saved trajectories from 1D siumulation\n",
    "\n",
    "N = trajectories.attrs[\"N\"] # Length of polymer\n",
    "LEFNum = trajectories.attrs[\"LEFNum\"] # Number of extruders\n",
    "LEFpositions = trajectories[\"positions\"] # Positions of extruders at each 1D step\n",
    "Nframes = LEFpositions.shape[0] # Number of 1D steps (= number of extruder steps)\n",
    "\n",
    "print(\"\"\"\n",
    "Polymer is {} monomers long. There are {} Extruders loaded. \n",
    "It was processed in {} steps.\n",
    "\"\"\".format(N,LEFNum,Nframes))\n",
    "\n",
    "steps = 500 # MD steps PER STEP OF EXTRUDER\n",
    "box = (N / 0.1) ** 0.33 # Dimensions of bounding box\n",
    "data = grow_cubic(N, int(box))\n",
    "\n",
    "# SMC (Extruder) parameters\n",
    "smcBondWiddleDist = 0.2\n",
    "smcBondDist = 0.5\n",
    "\n",
    "### Simulation saving parameters\n",
    "saveEveryBlocks = 10 # Write coordinates every this many blocks\n",
    "restartSimulationEveryBlocks = 100 # \n",
    "# Checks\n",
    "assert Nframes % restartSimulationEveryBlocks == 0 # So we don't have leftover steps that won't get saved\n",
    "assert (restartSimulationEveryBlocks % saveEveryBlocks) == 0\n",
    "\n",
    "savesPerSim = restartSimulationEveryBlocks // saveEveryBlocks\n",
    "simInitsTotal = Nframes // restartSimulationEveryBlocks # Number of simulation initializations\n",
    "\n",
    "print(\"\"\"\n",
    "There will be {} MD steps done for every step of the extruder (aka there will be {} steps PER \"\"BLOCK\"\")\n",
    "Simulation restarts every {} blocks, for a total of {} initializations.\n",
    "      \"\"\".format(steps,steps,restartSimulationEveryBlocks,simInitsTotal))"
   ]
  },
  {
   "cell_type": "markdown",
   "id": "71c24dff-2580-484a-9a63-a9846a729cba",
   "metadata": {},
   "source": [
    "### The Simulation Loop"
   ]
  },
  {
   "cell_type": "code",
   "execution_count": null,
   "id": "cb108b84-0243-4294-96a6-8ba309e62e6a",
   "metadata": {
    "scrolled": true
   },
   "outputs": [],
   "source": [
    "milker = bondUpdater(LEFpositions)\n",
    "\n",
    "reporter = HDF5Reporter(folder=\"sim_outs\", # Save data location\n",
    "                        max_data_length=100, # Write data in chunks of this size - THIS CONTROLS HOW MANY CONFIGS ARE IN EACH BLOCK!\n",
    "                        overwrite=True, # overwrite existing file in out location\n",
    "                        blocks_only=True) # only save simulation blocks\n",
    "\n",
    "for iter in range(simInitsTotal):\n",
    "    # Create the simulation object\n",
    "    a = Simulation(\n",
    "            platform=\"cuda\", # platform to do computations on\n",
    "            integrator=\"variableLangevin\", # Integrator from OpenMM\n",
    "            error_tol=0.01, # error rate parameter for variableLangevin integrator\n",
    "            GPU=\"0\", # GPU index\n",
    "            collision_rate=0.03, # collision rate of particles in inverse picoseconds\n",
    "            N=len(data), # no. of particles\n",
    "            reporters=[reporter], # list of reporter objects to use\n",
    "            PBCbox=[box,box,box], # Periodic Boundary Conditions (PBC) box dimensions (x,y,z)\n",
    "            precision=\"mixed\" # GPU calculation precision, mixed is slow on 3080 and newer GPUs\n",
    "    )\n",
    "    # Loads the polymer we created, and puts center of mass at (0,0,0)\n",
    "    a.set_data(data) \n",
    "    # Add a force to the simulation object - since we are doing polymer simulation, we add a 'forcekit' that describes all the forces in a polymer chain and the interactions between them\n",
    "    a.add_force(\n",
    "        forcekits.polymer_chains(\n",
    "            a, # Simulation object\n",
    "            chains=[(0, None, 0)], # List of tuples desctibing 1 chain each - this is the default value, i.e. one chain of length N that is not a ring (i.e. a chain)\n",
    "            bond_force_func=forces.harmonic_bonds, # Define the bonded force as harmonic bonds\n",
    "            bond_force_kwargs={'bondLength':1.0, 'bondWiggleDistance':0.05}, # Parameters for harmonic bonds\n",
    "            angle_force_func=forces.angle_force, # Angle force \n",
    "            angle_force_kwargs={'k':0.5}, # Angle force parameters. k = stiffness bond (8=very stiff, k=1.5 is \"realistically flexible\")\n",
    "            nonbonded_force_func=forces.grosberg_repulsive_force, # Nonbonded force\n",
    "            nonbonded_force_kwargs={'trunc':1.5, # Allows chains to cross, the energy value at dist=0\n",
    "                                    'radiusMult':1},\n",
    "            except_bonds=True # Nonbonded forces do not affect bonded pieces\n",
    "        )\n",
    "    )\n",
    "    # Calculate bond parameters for extruder contact\n",
    "    kbond = a.kbondScalingFactor / (smcBondWiddleDist**2)\n",
    "    bondDist = smcBondDist * a.length_scale\n",
    "    activeParams = {\"length\":bondDist, \"k\":kbond}\n",
    "    inactiveParams = {\"length\":bondDist, \"k\":0}\n",
    "    # Set up bond manager object (\"milker\")\n",
    "    milker.setParams(activeParams, inactiveParams)\n",
    "    milker.setup(bondForce=a.force_dict[\"harmonic_bonds\"], blocks=restartSimulationEveryBlocks)\n",
    "\n",
    "    # During the first simulation initiation, minimize energy of conformations\n",
    "    if iter == 0:\n",
    "        a.local_energy_minimization()\n",
    "    else:\n",
    "        a._apply_forces()\n",
    "    ########## Start of the actual physics/MD calculations ##########\n",
    "    for i in range(restartSimulationEveryBlocks): # Loop for our simulation length\n",
    "        if i % saveEveryBlocks == (saveEveryBlocks-1): ### THIS IS WHERE WE SAVE A BLOCK!!! At the last step of the simulation before we restart\n",
    "            a.do_block(steps=steps) # do steps AND GET new monomer positions consisting of <steps> steps\n",
    "        else:\n",
    "            a.integrator.step(steps) # do steps WITHOUT getting new monomer positions (faster)\n",
    "        if i < restartSimulationEveryBlocks - 1: # if this is not the final block...\n",
    "            curBonds, pastBonds = milker.step(a.context) # Update bonds with the milker\n",
    "    data = a.get_data() # Fetch new polymer positions \n",
    "    del a \n",
    "\n",
    "    reporter.blocks_only = True # Write only blocks, not individual steps in block\n",
    "    time.sleep(0.2) # wait so garbage collector can clean up\n",
    "\n",
    "reporter.dump_data() # Output"
   ]
  },
  {
   "cell_type": "code",
   "execution_count": null,
   "id": "2603458f-bd13-4a2f-9db1-22fa33f43da7",
   "metadata": {},
   "outputs": [],
   "source": []
  }
 ],
 "metadata": {
  "kernelspec": {
   "display_name": "Python 3 (ipykernel)",
   "language": "python",
   "name": "python3"
  },
  "language_info": {
   "codemirror_mode": {
    "name": "ipython",
    "version": 3
   },
   "file_extension": ".py",
   "mimetype": "text/x-python",
   "name": "python",
   "nbconvert_exporter": "python",
   "pygments_lexer": "ipython3",
   "version": "3.9.18"
  }
 },
 "nbformat": 4,
 "nbformat_minor": 5
}
