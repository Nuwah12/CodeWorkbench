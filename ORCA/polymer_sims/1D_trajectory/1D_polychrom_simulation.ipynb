{
 "cells": [
  {
   "cell_type": "markdown",
   "id": "adcf8253-07fd-4ad0-b17c-8d6b368528d2",
   "metadata": {},
   "source": [
    "## 1-D loop extrusion simulation\n",
    "### !!! Make sure you run the cells IN ORDER !!!"
   ]
  },
  {
   "cell_type": "code",
   "execution_count": null,
   "id": "20c2b70e-5e63-4c6c-8a7e-68facb5bea08",
   "metadata": {},
   "outputs": [],
   "source": [
    "from extruder import Extruder\n",
    "import numpy as np\n",
    "from pathlib import Path\n",
    "import seaborn as sns\n",
    "import h5py\n",
    "import sys"
   ]
  },
  {
   "cell_type": "markdown",
   "id": "5cd7a0c6-c0fd-48f6-803b-522718b3d97a",
   "metadata": {},
   "source": [
    "### Translocating and writing trajectories using custom extruder class"
   ]
  },
  {
   "cell_type": "code",
   "execution_count": null,
   "id": "2d492fe0-a719-4b35-b903-c20c167dd66e",
   "metadata": {},
   "outputs": [],
   "source": [
    "N1 = 1000 # Size of 1 system\n",
    "M = 1 # No. of systems\n",
    "N = N1*M # Total size of system, in momomers\n",
    "occupied = np.zeros(N) # List to tell if current monomer is occupied by an extruder\n",
    "occupied[0] = 1 \n",
    "occupied[-1] = 1\n",
    "steps = 50000 # Timesteps for 1D sim.\n",
    "LEFNum = 5 # No. of extruders\n",
    "num_chunks = 50 # No. of chunks to write trajectories in\n",
    "\n",
    "### Blockers (i.e. CTCF) - {pos. : prob.}\n",
    "left_blockers_capture = {}\n",
    "right_blockers_capture = {}\n",
    "left_blockers_release = {}\n",
    "right_blockers_release = {}\n",
    "## Here we define strong, mild, and weak [blocking, release]\n",
    "STRONG_BLOCK = [0.99, 0.003]\n",
    "MEDIUM_BLOCK = [0.75, 0.005]\n",
    "MILD_BLOCK = [0.5, 0.006]\n",
    "WEAK_BLOCK = [0.2, 0.1]\n",
    "# Manually assigning blockers in dict\n",
    "## 4/4/24: All blockers are bidirectional\n",
    "left_blockers_capture[2] = STRONG_BLOCK[0] # 5' CTCF\n",
    "left_blockers_release[2] = STRONG_BLOCK[1]\n",
    "left_blockers_capture[225] = MEDIUM_BLOCK[0] # E1\n",
    "left_blockers_release[225] = MEDIUM_BLOCK[1]\n",
    "left_blockers_capture[320] = MEDIUM_BLOCK[0] # E2\n",
    "left_blockers_release[320] = MEDIUM_BLOCK[1]\n",
    "left_blockers_capture[750] = STRONG_BLOCK[0] # MYC promoter\n",
    "left_blockers_release[750] = STRONG_BLOCK[1]\n",
    "\n",
    "right_blockers_capture[2] = STRONG_BLOCK[0] # 5' CTCF\n",
    "right_blockers_release[2] = STRONG_BLOCK[1]\n",
    "right_blockers_capture[225] = MEDIUM_BLOCK[0] # E1\n",
    "right_blockers_release[225] = MEDIUM_BLOCK[1]\n",
    "right_blockers_capture[320] = MEDIUM_BLOCK[0] # E2\n",
    "right_blockers_release[320] = MEDIUM_BLOCK[1]\n",
    "right_blockers_capture[750] = STRONG_BLOCK[0] # MYC promoter\n",
    "right_blockers_release[750] = STRONG_BLOCK[1]\n",
    "\n",
    "#for i in range(M):\n",
    "#    for locs in left_blocker_locs:\n",
    "#        pos = i * N1 + locs\n",
    "#        left_blockers_capture[pos] = 0.90\n",
    "#        left_blockers_release[pos] = 0.01\n",
    "#    for locs in right_blocker_locs:\n",
    "#        pos = i * N1 + locs\n",
    "#        right_blockers_capture[pos] = 0.90\n",
    "#        right_blockers_release[pos] = 0.01"
   ]
  },
  {
   "cell_type": "code",
   "execution_count": null,
   "id": "ed758908-3443-4613-89a1-4a97dcda108a",
   "metadata": {},
   "outputs": [],
   "source": [
    "EXTRUDERS = []\n",
    "#LOADING_SPOTS = [230, 325]\n",
    "#LOADING_PROBS = [0.9,0.1]\n",
    "\n",
    "#if len(LOADING_SPOTS) != LEFNum:\n",
    "#    print('ERROR - There must be as many loading spots as there are Extruders (LEFNum).')\n",
    "#    sys.exit(1)\n",
    "\n",
    "for i in range(LEFNum):\n",
    "    leg = np.random.randint(N)\n",
    "    #print('Loading extruder at {}'.format(LOADING_SPOTS[i]))\n",
    "    print('Loading extruder at {}'.format(leg))\n",
    "    EXTRUDERS.append(Extruder(\n",
    "            extruder_index = i,\n",
    "            leg1 = leg,\n",
    "            leg2 = leg+1,\n",
    "            left_blockers_capture = left_blockers_capture,\n",
    "            right_blockers_capture = right_blockers_capture,\n",
    "            left_blockers_release = left_blockers_release,\n",
    "            right_blockers_release = right_blockers_release,\n",
    "            extrusion_occupancy = occupied,\n",
    "            lifetime = 1000,\n",
    "            lifetime_stalled = 100,\n",
    "            )\n",
    "        )"
   ]
  },
  {
   "cell_type": "code",
   "execution_count": null,
   "id": "b7540735-045b-414e-b50b-055de67f8b7a",
   "metadata": {
    "scrolled": true
   },
   "outputs": [],
   "source": [
    "outf = \"trajectory/LEFPositions.h5\"\n",
    "p = Path(outf)\n",
    "if p.exists():\n",
    "    p.unlink()\n",
    "with h5py.File(outf, mode='w') as f:\n",
    "    dset = f.create_dataset(\"positions\", \n",
    "            shape=(steps, LEFNum, 2), \n",
    "            dtype=np.int32, \n",
    "            compression=\"gzip\")\n",
    "    bins = np.linspace(0, steps, num_chunks, dtype=int)\n",
    "    for st,end in zip(bins[:-1], bins[1:]): # Loop through bins\n",
    "        cur = []\n",
    "        for i in range(st,end): # For bin in bins \n",
    "            positions = [(extruder.leg1.pos, extruder.leg2.pos) for extruder in EXTRUDERS] # Get both leg positions for all extruders\n",
    "            cur.append(positions)\n",
    "            for extruder in EXTRUDERS:\n",
    "                occupied = extruder.translocate(occupied) # Translocate extruder\n",
    "        cur = np.array(cur)\n",
    "        dset[st:end] = np.array(cur)\n",
    "        #print(dset[st:end])\n",
    "    f.attrs[\"N\"] = N\n",
    "    f.attrs[\"LEFNum\"] = LEFNum\n",
    "del EXTRUDERS"
   ]
  }
 ],
 "metadata": {
  "kernelspec": {
   "display_name": "Python 3 (ipykernel)",
   "language": "python",
   "name": "python3"
  },
  "language_info": {
   "codemirror_mode": {
    "name": "ipython",
    "version": 3
   },
   "file_extension": ".py",
   "mimetype": "text/x-python",
   "name": "python",
   "nbconvert_exporter": "python",
   "pygments_lexer": "ipython3",
   "version": "3.9.18"
  }
 },
 "nbformat": 4,
 "nbformat_minor": 5
}
