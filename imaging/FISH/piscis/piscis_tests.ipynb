{
 "cells": [
  {
   "cell_type": "code",
   "execution_count": null,
   "id": "f6473ffd-7cd1-460e-874c-3710fd833810",
   "metadata": {},
   "outputs": [],
   "source": [
    "import os\n",
    "from timeit import default_timer as timer\n",
    "from datetime import timedelta\n",
    "import numpy as np\n",
    "import nd2\n",
    "import plotly.graph_objects as go\n",
    "from io import BytesIO\n",
    "import base64\n",
    "from PIL import Image\n",
    "import piscis\n",
    "from sklearn.neighbors import NearestNeighbors"
   ]
  },
  {
   "cell_type": "code",
   "execution_count": null,
   "id": "fc332ddc-7d6d-4feb-a220-b39e39f308a9",
   "metadata": {},
   "outputs": [],
   "source": [
    "icos_img_dir = \"../tobias_ICOS\"\n",
    "os.path.exists(icos_img_dir)# just to confirm our path is valid"
   ]
  },
  {
   "cell_type": "code",
   "execution_count": null,
   "id": "258d8952-d2d3-4061-9928-916acbc218a9",
   "metadata": {},
   "outputs": [],
   "source": [
    "##### Read in .nd2 files with nd2 library\n",
    "loc1_untr = nd2.imread(os.path.join(icos_img_dir, \"Myla_ICOS_slide1_well2_loc001.nd2\")) # Shape is (Z, C, Y, X)\n",
    "loc1_untr = np.transpose(loc1_untr, (1,0,2,3)) # Transpose to (C, Z, Y, X)\n",
    "\n",
    "loc1_promKD = nd2.imread(os.path.join(icos_img_dir, \"Myla_ICOS_slide1_well1_loc001.nd2\"))\n",
    "loc1_promKD = np.transpose(loc1_promKD, (1,0,2,3)) "
   ]
  },
  {
   "cell_type": "code",
   "execution_count": null,
   "id": "941d72e8-8f2d-401b-9cfe-be3d3439e22f",
   "metadata": {},
   "outputs": [],
   "source": [
    "loc1_untr.shape"
   ]
  },
  {
   "cell_type": "code",
   "execution_count": null,
   "id": "22102f00-ee17-4355-8048-b987534752ae",
   "metadata": {},
   "outputs": [],
   "source": [
    "##### Select desired channel\n",
    "loc_dot_channel_untr = loc1_untr[1]\n",
    "loc_dot_channel_promKD = loc1_promKD[1]"
   ]
  },
  {
   "cell_type": "code",
   "execution_count": null,
   "id": "5d7768c4-067c-4314-8575-e78d7c83d913",
   "metadata": {},
   "outputs": [],
   "source": [
    "print(loc_dot_channel_untr.shape)\n",
    "print(loc_dot_channel_promKD.shape)"
   ]
  },
  {
   "cell_type": "code",
   "execution_count": null,
   "id": "75061a3d-bc72-4115-ae69-d38107a601e3",
   "metadata": {},
   "outputs": [],
   "source": [
    "##### Piscis\n",
    "model = piscis.Piscis(model_name='20230905')"
   ]
  },
  {
   "cell_type": "code",
   "execution_count": null,
   "id": "338f5a52-d92d-4dc5-979c-c755318208f3",
   "metadata": {},
   "outputs": [],
   "source": [
    "### Untreated\n",
    "start = timer()\n",
    "spots_pred_untr = model.predict(loc_dot_channel_untr, threshold=1)\n",
    "print(f\"{timedelta(seconds=timer()-start)} elapsed\")"
   ]
  },
  {
   "cell_type": "code",
   "execution_count": null,
   "id": "da91d47e-9122-41c7-9742-f8936ce85021",
   "metadata": {},
   "outputs": [],
   "source": [
    "### Promoter KD\n",
    "start = timer()\n",
    "spots_pred_promKD = model.predict(loc_dot_channel_promKD, threshold=1)\n",
    "print(f\"{timedelta(seconds=timer()-start)} elapsed\")"
   ]
  },
  {
   "cell_type": "code",
   "execution_count": null,
   "id": "b3f5b544-e256-468a-ba2d-b1539e8f0c8d",
   "metadata": {},
   "outputs": [],
   "source": [
    "##### Simple comparitive analysis\n",
    "numSpots_loc1_untr = [len(s) for s in spots_pred_untr]\n",
    "numSpots_loc1_promKD = [len(s) for s in spots_pred_promKD]\n",
    "print(f\"Mean no. of spots in Untreated (well #2): {round(np.mean(numSpots_loc1_untr),1)}\")\n",
    "print(f\"Mean no. of spots in Promoter KD (well #2): {round(np.mean(numSpots_loc1_promKD),1)}\")"
   ]
  },
  {
   "cell_type": "code",
   "execution_count": null,
   "id": "4d0c0aba-3215-4070-978d-7a025cc1e552",
   "metadata": {},
   "outputs": [],
   "source": [
    "spots = spots_pred_untr\n",
    "print(f\"spots shape: {spots.shape}\")\n",
    "print(f\"spots[0]: {spots[0]}\")"
   ]
  },
  {
   "cell_type": "code",
   "execution_count": null,
   "id": "a3ce43ca-0419-469b-b6da-0cd91f3dd47b",
   "metadata": {},
   "outputs": [],
   "source": [
    "##### Interactive plotting for each Z plane independently\n",
    "img = loc1_promKD[1] # specify channel to use \n",
    "spots = spots_pred_promKD\n",
    "\n",
    "def normalize_to_uint8(slice_2d):\n",
    "    p_min, p_max = np.percentile(slice_2d, (1, 99))\n",
    "    norm = np.clip((slice_2d - p_min) / (p_max - p_min), 0, 1)\n",
    "    return (norm * 255).astype(np.uint8)\n",
    "\n",
    "Z = img.shape[0]  # total number of z slices \n",
    "frames = []\n",
    "for z in range(Z):\n",
    "    img_slice = normalize_to_uint8(img[z]) # get the current z slice and normalize it to [0, 255]\n",
    "\n",
    "    coords_z = spots[z]  # extract the list with spots from current z slice\n",
    "    y = coords_z[:, 0]   # y coord\n",
    "    x = coords_z[:, 1]   # x coord\n",
    "\n",
    "    frame = go.Frame(\n",
    "        data=[\n",
    "            go.Heatmap(  # show image\n",
    "                z=img_slice,\n",
    "                colorscale='gray',\n",
    "                showscale=False\n",
    "            ),\n",
    "            go.Scatter(  # show spots\n",
    "                x=x,\n",
    "                y=y,\n",
    "                mode='markers',\n",
    "                marker=dict(color='red', size=5),\n",
    "                name='Spots'\n",
    "            )\n",
    "        ],\n",
    "        name=str(z)\n",
    "    )\n",
    "    frames.append(frame)\n",
    "\n",
    "# Add the first frame content\n",
    "fig = go.Figure(\n",
    "    data=[\n",
    "        go.Heatmap(z=normalize_to_uint8(img[0]), colorscale='gray', showscale=False),\n",
    "        go.Scatter(\n",
    "            x=spots[0][:, 1],\n",
    "            y=spots[0][:, 0],\n",
    "            mode=\"markers\",\n",
    "            marker=dict(color='red', size=5),\n",
    "            name='Spots'\n",
    "        )\n",
    "    ],\n",
    "    frames=frames\n",
    ")\n",
    "\n",
    "# Add slider and play buttons\n",
    "fig.update_layout(\n",
    "    sliders=[{\n",
    "        \"steps\": [\n",
    "            {\"method\": \"animate\", \"args\": [[str(z)], {\"mode\": \"immediate\"}], \"label\": f\"Z={z+1}\"}\n",
    "            for z in range(Z)\n",
    "        ],\n",
    "        \"currentvalue\": {\"prefix\": \"Slice: \"}\n",
    "    }],\n",
    "    height=700,\n",
    "    width=700,\n",
    "    title=\"Z-stack Spot Viewer\"\n",
    ")\n",
    "\n",
    "fig.update_yaxes(autorange=\"reversed\")  # Important for image-style orientation\n",
    "fig.show()\n"
   ]
  },
  {
   "cell_type": "code",
   "execution_count": null,
   "id": "60b74b0d-3223-4b5b-91c8-5ba747489c51",
   "metadata": {},
   "outputs": [],
   "source": [
    "##### Function to remove redundant spots in successive z slices\n",
    "def dedup_spots(spots):\n",
    "    \n",
    "    "
   ]
  },
  {
   "cell_type": "code",
   "execution_count": null,
   "id": "d796ab8d-6d02-4f74-83c1-af6b584da2b8",
   "metadata": {},
   "outputs": [],
   "source": [
    "all_spots = np.concatenate(spots_pred_untr)\n",
    "nn = NearestNeighbors(radius=0.5)  # 1 pixel radius (tune this)\n",
    "nn.fit(all_spots)\n",
    "neighbors = nn.radius_neighbors(all_spots, return_distance=False)"
   ]
  },
  {
   "cell_type": "code",
   "execution_count": null,
   "id": "a6b352fa-dc9e-457a-b49e-341b4c29fb3b",
   "metadata": {},
   "outputs": [],
   "source": [
    "visited = set()\n",
    "keep_indices = []\n",
    "\n",
    "for i, neigh in enumerate(neighbors):\n",
    "    if i in visited:\n",
    "        continue\n",
    "    keep_indices.append(i)\n",
    "    visited.update(neigh)\n",
    "\n",
    "deduped_spots = all_spots[keep_indices]  # shape (M, 3)"
   ]
  },
  {
   "cell_type": "code",
   "execution_count": null,
   "id": "e6acfeb7-5371-4b95-9f56-1768d7fd7202",
   "metadata": {},
   "outputs": [],
   "source": [
    "##### Max project z stack\n",
    "loc1_untr_maxProj = np.max(loc1_untr[1], axis=0)\n",
    "loc1_promKD_maxProj = np.max(loc1_promKD[1], axis=0)"
   ]
  },
  {
   "cell_type": "code",
   "execution_count": null,
   "id": "96d70554-8fd4-43a2-9d01-9e916a3db2f8",
   "metadata": {},
   "outputs": [],
   "source": [
    "all_spots"
   ]
  },
  {
   "cell_type": "code",
   "execution_count": null,
   "id": "fb88b4c7-718b-4ac1-af38-d3282f4fdb48",
   "metadata": {},
   "outputs": [],
   "source": [
    "x = all_spots[:,1]\n",
    "y = all_spots[:,0]"
   ]
  },
  {
   "cell_type": "code",
   "execution_count": 27,
   "id": "d5fd3c37-761f-4b38-85ae-da2deaea9701",
   "metadata": {},
   "outputs": [],
   "source": [
    "\n",
    "lines_x = []\n",
    "lines_y = []\n",
    "for i, nbrs in enumerate(neighbors):\n",
    "    for j in nbrs:\n",
    "        if i >= j:  # avoid duplicates\n",
    "            continue\n",
    "        lines_x.extend([x[i], x[j], None])\n",
    "        lines_y.extend([y[i], y[j], None])\n",
    "\n",
    "# Normalize and convert Z-slice to uint8\n",
    "def normalize_to_uint8(slice_2d):\n",
    "    p_min, p_max = np.percentile(slice_2d, (1, 99))\n",
    "    norm = np.clip((slice_2d - p_min) / (p_max - p_min), 0, 1)\n",
    "    return (norm * 255).astype(np.uint8)\n",
    "\n",
    "img_slice = normalize_to_uint8(loc1_untr_maxProj)\n",
    "\n",
    "pil_img = Image.fromarray(img_slice)\n",
    "buffer = BytesIO()\n",
    "pil_img.save(buffer, format=\"PNG\")\n",
    "encoded = base64.b64encode(buffer.getvalue()).decode()\n",
    "\n",
    "# Create figure with image background\n",
    "fig = go.Figure()\n",
    "\n",
    "# Add lines between neighbors\n",
    "fig.add_trace(go.Scatter(\n",
    "    x=lines_x,\n",
    "    y=lines_y,\n",
    "    mode='lines',\n",
    "    line=dict(color='blue', width=1),\n",
    "    name='Neighbor Links'\n",
    "))\n",
    "\n",
    "# Add spot markers\n",
    "fig.add_trace(go.Scatter(\n",
    "    x=x,\n",
    "    y=y,\n",
    "    mode='markers',\n",
    "    marker=dict(color='rgba(255,0,0,1)', size=5),\n",
    "    name='Spots'\n",
    "))\n",
    "\n",
    "# Overlay the image\n",
    "fig.update_layout(\n",
    "    images=[dict(\n",
    "        source=f'data:image/png;base64,{encoded}',\n",
    "        xref=\"x\", yref=\"y\",\n",
    "        x=0, y=0,\n",
    "        sizex=img_slice.shape[1],  # X-axis size (width)\n",
    "        sizey=img_slice.shape[0],  # Y-axis size (height)\n",
    "        sizing=\"stretch\",\n",
    "        opacity=1.0,\n",
    "        layer=\"below\"\n",
    "    )],\n",
    "    height=700,\n",
    "    width=700,\n",
    "    title=f\"Max-Z projection with Neighbors\"\n",
    ")\n",
    "\n",
    "fig.update_yaxes(autorange='reversed')\n",
    "fig.write_html('../piscis/loc01_ICOS_untr_spotNeighborhoods.html')\n"
   ]
  }
 ],
 "metadata": {
  "kernelspec": {
   "display_name": "Python 3 (ipykernel)",
   "language": "python",
   "name": "python3"
  },
  "language_info": {
   "codemirror_mode": {
    "name": "ipython",
    "version": 3
   },
   "file_extension": ".py",
   "mimetype": "text/x-python",
   "name": "python",
   "nbconvert_exporter": "python",
   "pygments_lexer": "ipython3",
   "version": "3.13.3"
  }
 },
 "nbformat": 4,
 "nbformat_minor": 5
}
