{
 "cells": [
  {
   "cell_type": "code",
   "execution_count": 3,
   "id": "f6473ffd-7cd1-460e-874c-3710fd833810",
   "metadata": {},
   "outputs": [],
   "source": [
    "import os\n",
    "import numpy as np\n",
    "import nd2\n",
    "import piscis"
   ]
  },
  {
   "cell_type": "code",
   "execution_count": 5,
   "id": "fc332ddc-7d6d-4feb-a220-b39e39f308a9",
   "metadata": {},
   "outputs": [],
   "source": [
    "icos_img_dir = \"../tobias_ICOS\""
   ]
  },
  {
   "cell_type": "code",
   "execution_count": 13,
   "id": "258d8952-d2d3-4061-9928-916acbc218a9",
   "metadata": {},
   "outputs": [],
   "source": [
    "##### Read in .nd2 files with nd2 library\n",
    "loc1 = nd2.imread(os.path.join(icos_img_dir, \"Myla_ICOS_slide1_well1_loc001.nd2\")) # Shape is (Z, C, Y, X)\n",
    "loc1 = np.transpose(loc1, (1,0,2,3)) # Transpose to (C, Z, Y, X)"
   ]
  },
  {
   "cell_type": "code",
   "execution_count": 16,
   "id": "22102f00-ee17-4355-8048-b987534752ae",
   "metadata": {},
   "outputs": [],
   "source": [
    "##### Select desired channel\n",
    "loc_dot_channel = loc1[:,1]"
   ]
  },
  {
   "cell_type": "code",
   "execution_count": 11,
   "id": "75061a3d-bc72-4115-ae69-d38107a601e3",
   "metadata": {},
   "outputs": [
    {
     "name": "stderr",
     "output_type": "stream",
     "text": [
      "WARNING:2025-05-14 15:35:12,421:jax._src.xla_bridge:909: An NVIDIA GPU may be present on this machine, but a CUDA-enabled jaxlib is not installed. Falling back to cpu.\n"
     ]
    },
    {
     "data": {
      "application/vnd.jupyter.widget-view+json": {
       "model_id": "b478ce0415da45318565ef25a93307f0",
       "version_major": 2,
       "version_minor": 0
      },
      "text/plain": [
       "wniu/Piscis/models/20230905:   0%|          | 0.00/29.9M [00:00<?, ?B/s]"
      ]
     },
     "metadata": {},
     "output_type": "display_data"
    }
   ],
   "source": [
    "##### Piscis\n",
    "model = piscis.Piscis(model_name='20230905')"
   ]
  },
  {
   "cell_type": "code",
   "execution_count": 22,
   "id": "338f5a52-d92d-4dc5-979c-c755318208f3",
   "metadata": {},
   "outputs": [],
   "source": [
    "spots_pred = model.predict(loc_dot_channel, threshold=0.5)"
   ]
  },
  {
   "cell_type": "code",
   "execution_count": 21,
   "id": "b3f5b544-e256-468a-ba2d-b1539e8f0c8d",
   "metadata": {},
   "outputs": [
    {
     "name": "stdout",
     "output_type": "stream",
     "text": [
      "65\n",
      "71\n",
      "99\n",
      "96\n",
      "85\n",
      "90\n",
      "80\n",
      "76\n",
      "85\n",
      "108\n",
      "99\n",
      "89\n",
      "87\n",
      "80\n",
      "91\n",
      "95\n",
      "91\n",
      "97\n",
      "96\n",
      "95\n",
      "99\n",
      "91\n",
      "88\n",
      "83\n",
      "87\n",
      "80\n",
      "82\n",
      "88\n",
      "83\n",
      "88\n",
      "90\n",
      "84\n",
      "85\n",
      "86\n",
      "73\n"
     ]
    }
   ],
   "source": [
    "for i in spots_pred:\n",
    "    print(len(i))"
   ]
  }
 ],
 "metadata": {
  "kernelspec": {
   "display_name": "Python 3 (ipykernel)",
   "language": "python",
   "name": "python3"
  },
  "language_info": {
   "codemirror_mode": {
    "name": "ipython",
    "version": 3
   },
   "file_extension": ".py",
   "mimetype": "text/x-python",
   "name": "python",
   "nbconvert_exporter": "python",
   "pygments_lexer": "ipython3",
   "version": "3.13.3"
  }
 },
 "nbformat": 4,
 "nbformat_minor": 5
}
