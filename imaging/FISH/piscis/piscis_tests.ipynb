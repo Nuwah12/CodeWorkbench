{
 "cells": [
  {
   "cell_type": "code",
   "execution_count": 21,
   "id": "f6473ffd-7cd1-460e-874c-3710fd833810",
   "metadata": {},
   "outputs": [],
   "source": [
    "import os\n",
    "from timeit import default_timer as timer\n",
    "from datetime import timedelta\n",
    "import numpy as np\n",
    "import nd2\n",
    "import piscis"
   ]
  },
  {
   "cell_type": "code",
   "execution_count": 2,
   "id": "fc332ddc-7d6d-4feb-a220-b39e39f308a9",
   "metadata": {},
   "outputs": [
    {
     "data": {
      "text/plain": [
       "True"
      ]
     },
     "execution_count": 2,
     "metadata": {},
     "output_type": "execute_result"
    }
   ],
   "source": [
    "icos_img_dir = \"../tobias_ICOS\"\n",
    "os.path.exists(icos_img_dir)# just to confirm our path is valid"
   ]
  },
  {
   "cell_type": "code",
   "execution_count": 27,
   "id": "258d8952-d2d3-4061-9928-916acbc218a9",
   "metadata": {},
   "outputs": [],
   "source": [
    "##### Read in .nd2 files with nd2 library\n",
    "loc1_untr = nd2.imread(os.path.join(icos_img_dir, \"Myla_ICOS_slide1_well2_loc001.nd2\")) # Shape is (Z, C, Y, X)\n",
    "loc1_untr = np.transpose(loc1_untr, (1,0,2,3)) # Transpose to (C, Z, Y, X)\n",
    "\n",
    "loc1_promKD = nd2.imread(os.path.join(icos_img_dir, \"Myla_ICOS_slide1_well1_loc001.nd2\"))\n",
    "loc1_promKD = np.transpose(loc1_promKD, (1,0,2,3)) "
   ]
  },
  {
   "cell_type": "code",
   "execution_count": 35,
   "id": "22102f00-ee17-4355-8048-b987534752ae",
   "metadata": {},
   "outputs": [],
   "source": [
    "##### Select desired channel\n",
    "loc_dot_channel_untr = loc1_untr[1]\n",
    "loc_dot_channel_promKD = loc1_promKD[1]"
   ]
  },
  {
   "cell_type": "code",
   "execution_count": 36,
   "id": "5d7768c4-067c-4314-8575-e78d7c83d913",
   "metadata": {},
   "outputs": [
    {
     "name": "stdout",
     "output_type": "stream",
     "text": [
      "(35, 1022, 1024)\n",
      "(35, 1022, 1024)\n"
     ]
    }
   ],
   "source": [
    "print(loc_dot_channel_untr.shape)\n",
    "print(loc_dot_channel_promKD.shape)"
   ]
  },
  {
   "cell_type": "code",
   "execution_count": 33,
   "id": "75061a3d-bc72-4115-ae69-d38107a601e3",
   "metadata": {},
   "outputs": [],
   "source": [
    "##### Piscis\n",
    "model = piscis.Piscis(model_name='20230905')"
   ]
  },
  {
   "cell_type": "code",
   "execution_count": 37,
   "id": "338f5a52-d92d-4dc5-979c-c755318208f3",
   "metadata": {},
   "outputs": [
    {
     "name": "stdout",
     "output_type": "stream",
     "text": [
      "0:01:32.318980 elapsed\n"
     ]
    }
   ],
   "source": [
    "## Untreated\n",
    "start = timer()\n",
    "spots_pred_untr = model.predict(loc_dot_channel_untr, threshold=1)\n",
    "print(f\"{timedelta(seconds=timer()-start)} elapsed\")"
   ]
  },
  {
   "cell_type": "code",
   "execution_count": 47,
   "id": "da91d47e-9122-41c7-9742-f8936ce85021",
   "metadata": {},
   "outputs": [
    {
     "name": "stdout",
     "output_type": "stream",
     "text": [
      "0:01:33.228733 elapsed\n"
     ]
    }
   ],
   "source": [
    "### Promoter KD\n",
    "start = timer()\n",
    "spots_pred_promKD = model.predict(loc_dot_channel_promKD, threshold=1)\n",
    "print(f\"{timedelta(seconds=timer()-start)} elapsed\")"
   ]
  },
  {
   "cell_type": "code",
   "execution_count": 51,
   "id": "b3f5b544-e256-468a-ba2d-b1539e8f0c8d",
   "metadata": {},
   "outputs": [
    {
     "name": "stdout",
     "output_type": "stream",
     "text": [
      "Mean no. of spots in Untreated (well #2): 920.4\n",
      "Mean no. of spots in Promoter KD (well #2): 87.5\n"
     ]
    }
   ],
   "source": [
    "##### Simple comparitive analysis\n",
    "numSpots_loc1_untr = [len(s) for s in spots_pred_untr]\n",
    "numSpots_loc1_promKD = [len(s) for s in spots_pred_promKD]\n",
    "print(f\"Mean no. of spots in Untreated (well #2): {round(np.mean(numSpots_loc1_untr),1)}\")\n",
    "print(f\"Mean no. of spots in Promoter KD (well #2): {round(np.mean(numSpots_loc1_promKD),1)}\")"
   ]
  }
 ],
 "metadata": {
  "kernelspec": {
   "display_name": "Python 3 (ipykernel)",
   "language": "python",
   "name": "python3"
  },
  "language_info": {
   "codemirror_mode": {
    "name": "ipython",
    "version": 3
   },
   "file_extension": ".py",
   "mimetype": "text/x-python",
   "name": "python",
   "nbconvert_exporter": "python",
   "pygments_lexer": "ipython3",
   "version": "3.13.3"
  }
 },
 "nbformat": 4,
 "nbformat_minor": 5
}
