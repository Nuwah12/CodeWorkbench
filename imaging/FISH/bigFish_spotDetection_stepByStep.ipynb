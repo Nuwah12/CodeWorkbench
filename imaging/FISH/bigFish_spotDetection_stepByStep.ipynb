{
 "cells": [
  {
   "cell_type": "markdown",
   "id": "1a42707a-2831-408d-87c2-dca4e16a4586",
   "metadata": {},
   "source": [
    "## RNA FISH analysis / Spot Calling with BigFISH\n",
    "[Documentation](https://big-fish.readthedocs.io/en/stable/index.html)"
   ]
  },
  {
   "cell_type": "code",
   "execution_count": null,
   "id": "20fe0e63-29c5-4dde-979e-d8eae48d6ae1",
   "metadata": {},
   "outputs": [],
   "source": [
    "import os\n",
    "import numpy as np\n",
    "import pandas as pd\n",
    "import matplotlib.pyplot as plt\n",
    "import plotly.graph_objects as go\n",
    "from PIL import Image\n",
    "import io\n",
    "import base64\n",
    "# Image maniuplation\n",
    "from skimage.segmentation import expand_labels\n",
    "# BigFISH modules\n",
    "import bigfish.stack as stack\n",
    "import bigfish.multistack as multistack\n",
    "import bigfish.detection as detection\n",
    "import bigfish.plot as plot"
   ]
  },
  {
   "cell_type": "code",
   "execution_count": null,
   "id": "1e0d637c-617d-4263-aa7a-d12b2d95e6f3",
   "metadata": {},
   "outputs": [],
   "source": [
    "### Function to apply the cell mask to the called spots\n",
    "def apply_mask(spots, mask):\n",
    "    \"\"\"\n",
    "    Filter spots (z, y, x) to keep only those that fall inside mask regions\n",
    "    Parameters:\n",
    "        spots - array with shape (z,y,x) or (y,x); spots detected from image\n",
    "        mask - array with shape equal to that of image; masks cells from background\n",
    "    \"\"\"\n",
    "    # Extract coordinates\n",
    "    z = spots[:, 0]\n",
    "    y = spots[:, 1].astype(int)\n",
    "    x = spots[:, 2].astype(int)\n",
    "\n",
    "    # Only keep spots within the image bounds\n",
    "    in_bounds = ((y >= 0) & (y < mask.shape[0]) & (x >= 0) & (x < mask.shape[1]))\n",
    "\n",
    "    # Filter \n",
    "    z = z[in_bounds]\n",
    "    y = y[in_bounds]\n",
    "    x = x[in_bounds]\n",
    "\n",
    "    # Get mask label for each spot\n",
    "    labels = np.array([mask[yy, xx] for yy, xx in zip(y, x)])\n",
    "    print(labels)\n",
    "    # Filter for spots inside a labeled cell (mask > 0)\n",
    "    keep = labels > 0\n",
    "    \n",
    "    # Return filtered array\n",
    "    return np.stack([z[keep], y[keep], x[keep]], axis=1)"
   ]
  },
  {
   "cell_type": "markdown",
   "id": "001487b7-fcb5-4493-921a-62370bfdccb1",
   "metadata": {},
   "source": [
    "### Define parameters & read images"
   ]
  },
  {
   "cell_type": "code",
   "execution_count": null,
   "id": "bd27dd24-f87d-45d3-b6d3-ac60bd4408d6",
   "metadata": {},
   "outputs": [],
   "source": [
    "##### Define some parameters\n",
    "img_dir = \"/mnt/data2/noah/fish_image/images_zStack/\" # Directory of images\n",
    "mask_dir = \"/mnt/data2/noah/fish_image/images_mask/\" # Directory of binary mask images\n",
    "fovs = [f\"{i:02}\" for i in range(1, 43)]  # FOV keys, 1 through 42 for our data\n",
    "channels = [\"DAPI\", \"Cy3\", \"A647\"] # Channels used, 3 in our data\n",
    "\n",
    "##### Make recipe for image I/O (for now just use FOV 01 as an example)\n",
    "recipe = {\n",
    "    \"fov\": fovs,\n",
    "    \"c\": channels,\n",
    "    \"opt\": \"Location\",\n",
    "    \"ext\": \"tif\",\n",
    "    \"pattern\": \"opt_fov_c.ext\"}"
   ]
  },
  {
   "cell_type": "code",
   "execution_count": null,
   "id": "a2bd6712-94ea-4d83-ae03-f9412eeaa070",
   "metadata": {},
   "outputs": [],
   "source": [
    "##### Load in the image as a stack\n",
    "img = multistack.build_stack(recipe, input_folder=img_dir) # Shape = (round, channel, z, y, x)\n",
    "print(f\"Image shape: {img.shape}\")"
   ]
  },
  {
   "cell_type": "markdown",
   "id": "5fbd745d-eef2-4437-b772-f7dcdfb63d7a",
   "metadata": {},
   "source": [
    "### Image preprocessing"
   ]
  },
  {
   "cell_type": "code",
   "execution_count": null,
   "id": "db3b15f1-3f13-45d4-9603-91ebed810c7c",
   "metadata": {},
   "outputs": [],
   "source": [
    "##### Rescale pixel intensity\n",
    "img_rescaled = np.stack([\n",
    "    stack.rescale(img[0, c]) for c in range(img.shape[1])\n",
    "], axis=0) \n",
    "\n",
    "##### Cast images to float\n",
    "img_rescaled_64bitFloat = np.stack([\n",
    "    stack.cast_img_float64(img[0, c]) for c in range(img.shape[1])\n",
    "], axis=0)  # (3, Z, Y, X)"
   ]
  },
  {
   "cell_type": "code",
   "execution_count": null,
   "id": "b746c5a1-142c-47bc-b0fc-034efd5ab0eb",
   "metadata": {},
   "outputs": [],
   "source": [
    "##### We only have 1 run, so remove the redundant run dimension\n",
    "if img.ndim == 5 and img.shape[0] == 1:\n",
    "    img = np.squeeze(img, axis=0)"
   ]
  },
  {
   "cell_type": "markdown",
   "id": "f7ee735f-ae7f-4347-bd6a-542e8c3f8924",
   "metadata": {},
   "source": [
    "### Spot detection"
   ]
  },
  {
   "cell_type": "code",
   "execution_count": 1,
   "id": "da35dfd4-6b37-493d-a2b4-652fe58507ba",
   "metadata": {},
   "outputs": [],
   "source": [
    "##### Setup parameters for spot detection\n",
    "calling_channel = \"Cy3\"\n",
    "voxel_size = (0.3, 0.108, 0.108) # Nanometer per voxel (z, y, x)\n",
    "spot_radius = (0.5, 0.5, 0.5)    # Nanometer radii of spots (z, y, x)\n",
    "mask_fname = \"\"                  # Full filename of corresponding FOV mask\n",
    "mask_expand = 10                 # Euclidean distance in pixels by which to grow the masks. https://scikit-image.org/docs/stable/api/skimage.segmentation.html#skimage.segmentation.expand_labels\n",
    "\n",
    "##### Parameters exclusive to dense region decomposition\n",
    "alpha = 0.7    # Intensity percentile used to compute reference spot [0,1]. Higher = brighter spots simulated in dense regions, but a high intensity score reduces number of spots added to dense region\n",
    "beta = 1       # Multiplicative factor for intensity threshold. threshold = beta * max(median spot)\n",
    "gamma = 10     # Multiplicative factor used to compute gaussian kernel size. kernel size = (gamma * spot radius) / voxel size. Higher = increases scale of gaussian filter and moothing the estimated background. To decompose very large bright areas, a large gamma should be chosen"
   ]
  },
  {
   "cell_type": "code",
   "execution_count": null,
   "id": "d4b3cd4f-e022-4ef4-9fa8-c57f1c1ec0a2",
   "metadata": {},
   "outputs": [],
   "source": [
    "# Subset channel to call dots on\n",
    "dot_channel = img[channels.index(calling_channel)]\n",
    "\n",
    "# Load mask\n",
    "mask_path = os.path.join(mask_dir, mask_fname)\n",
    "mask = stack.read_image(mask_path)\n",
    "\n",
    "# Expand mask using a skimage function\n",
    "mask = expand_labels(mask, distance=mask_expand)\n",
    "print(mask.shape)"
   ]
  },
  {
   "cell_type": "code",
   "execution_count": null,
   "id": "2d775f83-6a04-41b7-9c9d-fc16a5112a93",
   "metadata": {},
   "outputs": [],
   "source": [
    "##### Initial spot detection\n",
    "spots, thresh = detection.detect_spots(dot_channel,\n",
    "                                       voxel_size=voxel_size,\n",
    "                                       spot_radius=spot_radius, \n",
    "                                       return_threshold=True)\n",
    "\n",
    "print(spots.shape)\n",
    "print(f\"Detected {spots.shape[0]} spots before applying cell mask.\")"
   ]
  },
  {
   "cell_type": "code",
   "execution_count": null,
   "id": "0f7659cc-f04e-4c40-90b5-754b61f0f0cf",
   "metadata": {},
   "outputs": [],
   "source": [
    "##### Dense Spot Decomposition\n",
    "spots_post_decomposition, dense_regions, reference_spot = detection.decompose_dense(\n",
    "        image=dot_channel, \n",
    "        spots=spots, \n",
    "        voxel_size=voxel_size, \n",
    "        spot_radius=spot_radius,  \n",
    "        alpha=alpha,                     # alpha impacts the number of spots per candidate region\n",
    "        beta=beta,                      # beta impacts the number of candidate regions to decompose\n",
    "        gamma=gamma)                    # gamma the filtering step to denoise the image"
   ]
  },
  {
   "cell_type": "code",
   "execution_count": null,
   "id": "196acec1-752a-4d1e-9411-81df48ae32b0",
   "metadata": {},
   "outputs": [],
   "source": [
    "##### Apply the cell mask to the caled spots; remove spots outside of masked regions\n",
    "spots = apply_mask(spots_post_decomposition, mask)\n",
    "print(f\"Applied cell mask, {spots.shape[0]} spots remain.\")"
   ]
  },
  {
   "cell_type": "markdown",
   "id": "a29c8ede-b077-4a90-b3d7-39c4bb393bcf",
   "metadata": {},
   "source": [
    "### Plot contrast\n",
    "The below cell will take a couple seconds to run, but will produce side-by-side images of the channel used to call dots and one with the called dots overlaid."
   ]
  },
  {
   "cell_type": "code",
   "execution_count": null,
   "id": "dc898319-4845-4a72-8ea2-f0c57c56485c",
   "metadata": {},
   "outputs": [],
   "source": [
    "projection = stack.maximum_projection(dot_channel)\n",
    "plot.plot_detection(projection, spots, contrast=True)"
   ]
  },
  {
   "cell_type": "markdown",
   "id": "a67e0f90-9814-461a-8f03-2d78a73ef268",
   "metadata": {},
   "source": [
    "### Interactive Plotting"
   ]
  },
  {
   "cell_type": "code",
   "execution_count": null,
   "id": "02f56c3d-eafd-42d3-98be-00f62a5cfcf7",
   "metadata": {},
   "outputs": [],
   "source": [
    "# Normalize image\n",
    "img_norm = np.clip(projection, np.percentile(projection, 1), np.percentile(projection, 99))\n",
    "img_norm = ((img_norm - img_norm.min()) / (img_norm.max() - img_norm.min()) * 255).astype(np.uint8)\n",
    "\n",
    "# Convert to PNG base64 string for plotly background\n",
    "img_pil = Image.fromarray(img_norm)\n",
    "buffer = io.BytesIO()\n",
    "img_pil.save(buffer, format=\"PNG\")\n",
    "encoded_image = base64.b64encode(buffer.getvalue()).decode()\n",
    "\n",
    "# Set up figure\n",
    "fig = go.Figure()\n",
    "\n",
    "# Add spots (x = col, y = row)\n",
    "fig.add_trace(go.Scatter(\n",
    "    x=spots[:, 2],\n",
    "    y=spots[:, 1],\n",
    "    mode='markers',\n",
    "    marker=dict(size=4, color='red', symbol='circle-open', line=dict(width=0.5)),\n",
    "    name='Spots'\n",
    "))\n",
    "\n",
    "# Set image background\n",
    "fig.update_layout(\n",
    "    images=[dict(\n",
    "        source='data:image/png;base64,' + encoded_image,\n",
    "        xref=\"x\", yref=\"y\",\n",
    "        x=0, y=0,\n",
    "        sizex=img_norm.shape[1], sizey=img_norm.shape[0],\n",
    "        sizing=\"stretch\",\n",
    "        opacity=1,\n",
    "        layer=\"below\"\n",
    "    )],\n",
    "    yaxis=dict(scaleanchor=\"x\", autorange='reversed'),\n",
    "    xaxis=dict(showgrid=False),\n",
    "    yaxis_showgrid=False,\n",
    "    width=800,\n",
    "    height=800,\n",
    "    margin=dict(l=0, r=0, t=30, b=0),\n",
    "    title=f\"FOV 01 - {spots.shape[0]} Spots\"\n",
    ")\n",
    "\n",
    "fig.show()"
   ]
  }
 ],
 "metadata": {
  "kernelspec": {
   "display_name": "Python 3 (ipykernel)",
   "language": "python",
   "name": "python3"
  },
  "language_info": {
   "codemirror_mode": {
    "name": "ipython",
    "version": 3
   },
   "file_extension": ".py",
   "mimetype": "text/x-python",
   "name": "python",
   "nbconvert_exporter": "python",
   "pygments_lexer": "ipython3",
   "version": "3.13.3"
  }
 },
 "nbformat": 4,
 "nbformat_minor": 5
}
